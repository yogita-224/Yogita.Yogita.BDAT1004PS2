{
 "cells": [
  {
   "cell_type": "markdown",
   "id": "cd55d6d4",
   "metadata": {},
   "source": [
    "Q1):-\n",
    "Consider the following Python module:\n",
    "a = 0\n",
    "def b():\n",
    " global a\n",
    " a = c(a)\n",
    "def c(a):\n",
    " return a + 2\n",
    "After importing the module into the interpreter, you execute:\n",
    ">>> b()\n",
    ">>> b()\n",
    ">>> b()\n",
    ">>> a\n",
    "?\n",
    "What value is displayed when the last expression (a) is evaluated? Explain your\n",
    "answer by indicating what happens in every executed statement."
   ]
  },
  {
   "cell_type": "code",
   "execution_count": 2,
   "id": "7269c2a1",
   "metadata": {},
   "outputs": [],
   "source": [
    "#Let's go over the process step by step:\n",
    "#1).The module is imported, and the value of the variable an is set to 0.\n",
    "#2).The initial call to the function b() is made:\n",
    "  #a)The global keyword is used to denote that the global variable a declared in the module scope is referenced by the variable an inside the function.\n",
    "  #b)It invokes the function c(a), supplying as an argument the current value of a, which is 0.\n",
    "  #c)The result (2) is returned by the function c(a), which increases the value of a by 2.\n",
    "  #d)The returned value updates the global variable a, making it now equal to 2.\n",
    "#3). A second call to the function b() is made:\n",
    " #a)The same steps are followed: The global variable a's current value, 2, is provided to the function c(a).\n",
    " #b)The outcome of the function c(a), which adds 2 to the value of a (which is 2), is 4, not 2.\n",
    " #c)The returned value is added to the global variable a, making it now equal to 4.\n",
    "#4).The third time the method b() is invoked:\n",
    " #a)The same procedure is carried out once again, passing the function c(a) the global variable a's current value, 4, each time.\n",
    " #b)The outcome of the function c(a) is 6 after adding 2 to the value of a, which is 4.\n",
    " #c)The returned result is used to update the global variable a, which now has the value 6.\n",
    "#5).Finally, the last expression a is evaluated:\n",
    "#Since the last value assigned to the global variable a was 6, this value is displayed when the expression is evaluated.\n",
    "#So, the value displayed when the last expression (a) is evaluated is 6."
   ]
  },
  {
   "cell_type": "markdown",
   "id": "afaaccc6",
   "metadata": {},
   "source": [
    "Q2):-\n",
    "Function fileLength(), given to you, takes the name of a file as input and returns\n",
    "the length of the file:\n",
    ">>> fileLength('midterm.py')\n",
    "284\n",
    ">>> fileLength('idterm.py')\n",
    "Traceback (most recent call last):\n",
    "File \"<pyshell#34>\", line 1, in <module>\n",
    " fileLength('idterm.py')\n",
    "File \"/Users/me/midterm.py\", line 3, in fileLength\n",
    " infile = open(filename)\n",
    "FileNotFoundError: [Errno 2] No such file or directory:\n",
    "'idterm.py'\n",
    "As shown above, if the file cannot be found by the interpreter or if it cannot be read\n",
    "as a text file, an exception will be raised. Modify function fileLength() so that a\n",
    "friendly message is printed instead:\n",
    ">>> fileLength('midterm.py')\n",
    "358\n",
    ">>> fileLength('idterm.py')\n",
    "File idterm.py not found."
   ]
  },
  {
   "cell_type": "code",
   "execution_count": 7,
   "id": "af5dfecb",
   "metadata": {},
   "outputs": [
    {
     "data": {
      "text/plain": [
       "5345"
      ]
     },
     "execution_count": 7,
     "metadata": {},
     "output_type": "execute_result"
    }
   ],
   "source": [
    "def fileLength(filename):\n",
    "    try:\n",
    "        infile = open(filename, 'r')\n",
    "        content = infile.read()\n",
    "        infile.close()\n",
    "        return len(content)\n",
    "    except FileNotFoundError:\n",
    "        print(\"File\", filename, \"not found.\")\n",
    "    except IOError:\n",
    "        print(\"Error reading file\", filename)\n",
    "        \n",
    "fileLength(\"C:/Users/yogit/Downloads/words.txt\")"
   ]
  },
  {
   "cell_type": "markdown",
   "id": "acb954b1",
   "metadata": {},
   "source": [
    "Q3):-\n",
    "Write a class named Marsupial that can be used as shown below:\n",
    ">>> m = Marsupial()\n",
    ">>> m.put_in_pouch('doll')\n",
    ">>> m.put_in_pouch('firetruck')\n",
    ">>> m.put_in_pouch('kitten')\n",
    ">>> m.pouch_contents()\n",
    "['doll', 'firetruck', 'kitten']\n",
    "Now write a class named Kangaroo as a subclass of Marsupial that inherits all the\n",
    "attributes of Marsupial and also:\n",
    "a. extends the Marsupial __init__ constructor to take, as input, the\n",
    "coordinates x and y of the Kangaroo object,\n",
    "b. supports method jump that takes number values dx and dy as input and\n",
    "moves the kangaroo by dx units along the x-axis and by dy units along the yaxis, and\n",
    "c. overloads the __str__ operator so it behaves as shown below.\n",
    ">>> k = Kangaroo(0,0)\n",
    ">>> print(k)\n",
    "I am a Kangaroo located at coordinates (0,0)\n",
    ">>> k.put_in_pouch('doll')\n",
    ">>> k.put_in_pouch('firetruck')\n",
    ">>> k.put_in_pouch('kitten')\n",
    ">>> k.pouch_contents()\n",
    "['doll', 'firetruck', 'kitten']\n",
    ">>> k.jump(1,0)\n",
    ">>> k.jump(1,0)\n",
    ">>> k.jump(1,0)\n",
    ">>> print(k)\n",
    "I am a Kangaroo located at coordinates (3,0)"
   ]
  },
  {
   "cell_type": "code",
   "execution_count": 8,
   "id": "207a11d9",
   "metadata": {},
   "outputs": [
    {
     "name": "stdout",
     "output_type": "stream",
     "text": [
      "I am a Kangaroo located at coordinates (0,0)\n",
      "['doll', 'firetruck', 'kitten']\n",
      "I am a Kangaroo located at coordinates (3,0)\n"
     ]
    }
   ],
   "source": [
    "class Marsupial:\n",
    "    def __init__(self):\n",
    "        self.pouch = []\n",
    "\n",
    "    def put_in_pouch(self, item):\n",
    "        self.pouch.append(item)\n",
    "\n",
    "    def pouch_contents(self):\n",
    "        return self.pouch\n",
    "\n",
    "\n",
    "class Kangaroo(Marsupial):\n",
    "    def __init__(self, x, y):\n",
    "        super().__init__()\n",
    "        self.x = x\n",
    "        self.y = y\n",
    "\n",
    "    def jump(self, dx, dy):\n",
    "        self.x += dx\n",
    "        self.y += dy\n",
    "\n",
    "    def __str__(self):\n",
    "        return f\"I am a Kangaroo located at coordinates ({self.x},{self.y})\"\n",
    "\n",
    "\n",
    "k = Kangaroo(0, 0)\n",
    "print(k)  \n",
    "\n",
    "k.put_in_pouch('doll')\n",
    "k.put_in_pouch('firetruck')\n",
    "k.put_in_pouch('kitten')\n",
    "print(k.pouch_contents())  \n",
    "\n",
    "k.jump(1, 0)\n",
    "k.jump(1, 0)\n",
    "k.jump(1, 0)\n",
    "print(k)  \n"
   ]
  },
  {
   "cell_type": "markdown",
   "id": "0ae68f9d",
   "metadata": {},
   "source": [
    "Q4):-\n",
    "Write function collatz() that takes a positive integer x as input and prints the\n",
    "Collatz sequence starting at x. A Collatz sequence is obtained by repeatedly applying\n",
    "this rule to the previous number x in the sequence:\n",
    "x = {\n",
    "𝑥/2 𝑖𝑓 𝑥 𝑖𝑠 𝑒𝑣𝑒𝑛\n",
    "3𝑥 + 1 𝑖𝑓 𝑥 𝑖𝑠 𝑜𝑑𝑑\n",
    "Your function should stop when the sequence gets to number 1. Your\n",
    "implementation must be recursive, without any loops\n",
    ">>> collatz(1)\n",
    "1\n",
    ">>> collatz(10)\n",
    "10\n",
    "5\n",
    "16\n",
    "8\n",
    "4\n",
    "2\n",
    "1"
   ]
  },
  {
   "cell_type": "code",
   "execution_count": 11,
   "id": "621554b5",
   "metadata": {},
   "outputs": [
    {
     "name": "stdout",
     "output_type": "stream",
     "text": [
      "1\n",
      "10\n",
      "5\n",
      "16\n",
      "8\n",
      "4\n",
      "2\n",
      "1\n"
     ]
    }
   ],
   "source": [
    "def collatz(x):\n",
    "    print(x)  \n",
    "\n",
    "    if x == 1:  \n",
    "        return\n",
    "\n",
    "    if x % 2 == 0:  \n",
    "        collatz(x // 2)  \n",
    "    else:  \n",
    "        collatz(3 * x + 1)  \n",
    "collatz(1)\n",
    "collatz(10)\n"
   ]
  },
  {
   "cell_type": "markdown",
   "id": "16082c79",
   "metadata": {},
   "source": [
    "Q5):-\n",
    "Write a recursive method binary() that takes a non-negative\n",
    "integer n and prints the binary representation of integer n.\n",
    ">>> binary(0)\n",
    "0\n",
    ">>> binary(1)\n",
    "1\n",
    ">>> binary(3)\n",
    "11\n",
    ">>> binary(9)\n",
    "1001"
   ]
  },
  {
   "cell_type": "code",
   "execution_count": 16,
   "id": "ca31bdc0",
   "metadata": {},
   "outputs": [
    {
     "name": "stdout",
     "output_type": "stream",
     "text": [
      "1\n",
      "\n",
      "11\n",
      "\n",
      "1001"
     ]
    }
   ],
   "source": [
    "def binary(n):\n",
    "    if n == 0: \n",
    "        return\n",
    "\n",
    "    if n > 0:  \n",
    "        binary(n // 2)  \n",
    "        print(n % 2, end='')  \n",
    "binary(1)\n",
    "print(\"\\n\")\n",
    "binary(3)\n",
    "print(\"\\n\")\n",
    "binary(9)"
   ]
  },
  {
   "cell_type": "markdown",
   "id": "378537a6",
   "metadata": {},
   "source": [
    "Q6):-\n",
    "Implement a class named HeadingParser that can be used to parse an HTMLdocument, and retrieve and print all the headings in the document. You shouldimplement your class as a subclass of HTMLParser, defined in Standard Librarymodule html.parser.When fed a string containing HTML code, your class shouldprint the headings, one per line and in the order which they appear in thedocument. Each heading should be indented as follows: an h1 heading should have indentation 0, and h2 heading should have indentation 1, etc. Test yourimplementation using w3c.html.\n",
    ">>> infile = open('w3c.html')\n",
    ">>> content = infile.read()\n",
    ">>> infile.close()\n",
    ">>> hp = HeadingParser()\n",
    ">>> hp.feed(content)\n",
    "W3C Mission\n",
    "Principles"
   ]
  },
  {
   "cell_type": "code",
   "execution_count": 3,
   "id": "8968faaf",
   "metadata": {},
   "outputs": [
    {
     "name": "stdout",
     "output_type": "stream",
     "text": [
      "W3C Mission\n",
      " Principles\n"
     ]
    }
   ],
   "source": [
    "from html.parser import HTMLParser\n",
    "\n",
    "\n",
    "class HeadingParser(HTMLParser):\n",
    "    def __init__(self):\n",
    "        super().__init__()\n",
    "        self.indentation = 0\n",
    "        self.inside_heading = False\n",
    "\n",
    "    def handle_starttag(self, tag, attrs):\n",
    "        if tag.startswith(\"h\") and len(tag) == 2:\n",
    "            self.indentation = int(tag[1]) - 1\n",
    "            self.inside_heading = True\n",
    "\n",
    "    def handle_data(self, data):\n",
    "        if self.inside_heading:\n",
    "            print(\" \" * self.indentation + data)\n",
    "\n",
    "    def handle_endtag(self, tag):\n",
    "        if tag.startswith(\"h\") and len(tag) == 2:\n",
    "            self.inside_heading = False\n",
    "infile = open('C:/Users/yogit/OneDrive/Documents/w3c.html')\n",
    "content = infile.read()\n",
    "infile.close()\n",
    "hp = HeadingParser()\n",
    "hp.feed(content)"
   ]
  },
  {
   "cell_type": "markdown",
   "id": "efc93d55",
   "metadata": {},
   "source": [
    "Q7):-\n",
    "Implement recursive function webdir() that takes as input: a URL (as a string) and\n",
    "non-negative integers depth and indent. Your function should visit every web\n",
    "page reachable from the starting URL web page in depth clicks or less, and print\n",
    "each web page's URL. As shown below, indentation, specified by indent, should\n",
    "be used to indicate the depth of a URL.\n",
    ">>>\n",
    "webdir('http://reed.cs.depaul.edu/lperkovic/csc242/test1.html'\n",
    ", 2, 0)\n",
    "http://reed.cs.depaul.edu/lperkovic/csc242/test1.html\n",
    " http://reed.cs.depaul.edu/lperkovic/csc242/test2.html\n",
    " http://reed.cs.depaul.edu/lperkovic/csc242/test4.html\n",
    " http://reed.cs.depaul.edu/lperkovic/csc242/test3.html\n",
    " http://reed.cs.depaul.edu/lperkovic/csc242/test4.html"
   ]
  },
  {
   "cell_type": "code",
   "execution_count": 10,
   "id": "089630f3",
   "metadata": {},
   "outputs": [
    {
     "name": "stdout",
     "output_type": "stream",
     "text": [
      "http://reed.cs.depaul.edu/lperkovic/csc242/test1.html\n"
     ]
    }
   ],
   "source": [
    "import requests\n",
    "from bs4 import BeautifulSoup\n",
    "\n",
    "\n",
    "def webdir(url, depth, indent):\n",
    "    if depth < 0:\n",
    "        return\n",
    "\n",
    "    \n",
    "    print(\" \" * indent + url)\n",
    "\n",
    "    try:\n",
    "        response = requests.get(url)\n",
    "        soup = BeautifulSoup(response.text, 'html.parser')\n",
    "\n",
    "        if depth == 0:\n",
    "            return\n",
    "\n",
    "        links = soup.find_all('a')\n",
    "        for link in links:\n",
    "            href = link.get('href')\n",
    "            if href.startswith('http'):\n",
    "                webdir(href, depth - 1, indent + 1)\n",
    "\n",
    "    except requests.exceptions.RequestException:\n",
    "        return\n",
    "webdir('http://reed.cs.depaul.edu/lperkovic/csc242/test1.html', 2, 0)\n"
   ]
  },
  {
   "cell_type": "markdown",
   "id": "4c0fc4bd",
   "metadata": {},
   "source": [
    "Q8):-\n",
    "Write SQL queries on the below database table that return:\n",
    "a) All the temperature data.\n",
    "b) All the cities, but without repetition.\n",
    "c) All the records for India.\n",
    "d) All the Fall records.\n",
    "e) The city, country, and season for which the average rainfall is between 200\n",
    "and 400 millimeters.\n",
    "f) The city and country for which the average Fall temperature is above 20\n",
    "degrees, in increasing temperature order.\n",
    "g) The total annual rainfall for Cairo.\n",
    "h) The total rainfall for each season."
   ]
  },
  {
   "cell_type": "code",
   "execution_count": 15,
   "id": "15750ba2",
   "metadata": {},
   "outputs": [],
   "source": [
    "import sqlite3\n",
    "\n",
    "\n",
    "conn = sqlite3.connect('weather.db')\n",
    "cursor = conn.cursor()\n",
    "\n"
   ]
  },
  {
   "cell_type": "code",
   "execution_count": 16,
   "id": "3b3de17a",
   "metadata": {},
   "outputs": [
    {
     "name": "stdout",
     "output_type": "stream",
     "text": [
      "Temperature Data:\n",
      "24.8\n",
      "28.4\n",
      "27.9\n",
      "27.6\n",
      "4.2\n",
      "8.3\n",
      "15.7\n",
      "10.4\n",
      "13.6\n",
      "20.7\n",
      "27.7\n",
      "22.2\n"
     ]
    }
   ],
   "source": [
    "cursor.execute('SELECT Temperature FROM Weather')\n",
    "temperature_data = cursor.fetchall()\n",
    "print(\"Temperature Data:\")\n",
    "for row in temperature_data:\n",
    "    print(row[0])"
   ]
  },
  {
   "cell_type": "code",
   "execution_count": null,
   "id": "5d341ea1",
   "metadata": {},
   "outputs": [],
   "source": [
    "cursor.execute('SELECT DISTINCT City FROM Weather')\n",
    "cities = cursor.fetchall()\n",
    "print(\"\\nCities without repetition:\")\n",
    "for row in cities:\n",
    "    print(row[0])"
   ]
  },
  {
   "cell_type": "code",
   "execution_count": 17,
   "id": "0efb90ea",
   "metadata": {},
   "outputs": [
    {
     "name": "stdout",
     "output_type": "stream",
     "text": [
      "\n",
      "Records for India:\n",
      "('Mumbai', 'India', 'Winter', 24.8, 5.9)\n",
      "('Mumbai', 'India', 'Spring', 28.4, 16.2)\n",
      "('Mumbai', 'India', 'Summer', 27.9, 1549.4)\n",
      "('Mumbai', 'India', 'Fall', 27.6, 346.0)\n"
     ]
    }
   ],
   "source": [
    "cursor.execute(\"SELECT * FROM Weather WHERE Country='India'\")\n",
    "india_records = cursor.fetchall()\n",
    "print(\"\\nRecords for India:\")\n",
    "for row in india_records:\n",
    "    print(row)"
   ]
  },
  {
   "cell_type": "code",
   "execution_count": null,
   "id": "c616c5e3",
   "metadata": {},
   "outputs": [],
   "source": [
    "cursor.execute(\"SELECT * FROM Weather WHERE Season='Fall'\")\n",
    "fall_records = cursor.fetchall()\n",
    "print(\"\\nFall Records:\")\n",
    "for row in fall_records:\n",
    "    print(row)"
   ]
  },
  {
   "cell_type": "code",
   "execution_count": 18,
   "id": "06a7122a",
   "metadata": {},
   "outputs": [
    {
     "name": "stdout",
     "output_type": "stream",
     "text": [
      "\n",
      "Records with average rainfall between 200 and 400 millimeters:\n",
      "('London', 'United Kingdom', 'Fall')\n",
      "('London', 'United Kingdom', 'Winter')\n",
      "('Mumbai', 'India', 'Fall')\n"
     ]
    }
   ],
   "source": [
    "cursor.execute(\"SELECT City, Country, Season FROM Weather GROUP BY City, Country, Season HAVING AVG(Rainfall) BETWEEN 200 AND 400\")\n",
    "rainfall_average_records = cursor.fetchall()\n",
    "print(\"\\nRecords with average rainfall between 200 and 400 millimeters:\")\n",
    "for row in rainfall_average_records:\n",
    "    print(row)\n"
   ]
  },
  {
   "cell_type": "code",
   "execution_count": null,
   "id": "092da8cf",
   "metadata": {},
   "outputs": [],
   "source": [
    "cursor.execute(\"SELECT City, Country FROM Weather WHERE Season='Fall' GROUP BY City, Country HAVING AVG(Temperature) > 20 ORDER BY AVG(Temperature)\")\n",
    "fall_temperature_records = cursor.fetchall()\n",
    "print(\"\\nRecords with average Fall temperature above 20 degrees (in increasing temperature order):\")\n",
    "for row in fall_temperature_records:\n",
    "    print(row)"
   ]
  },
  {
   "cell_type": "code",
   "execution_count": 19,
   "id": "53e05ed5",
   "metadata": {},
   "outputs": [
    {
     "name": "stdout",
     "output_type": "stream",
     "text": [
      "\n",
      "Total annual rainfall for Cairo: 27.6\n"
     ]
    }
   ],
   "source": [
    "cursor.execute(\"SELECT SUM(Rainfall) FROM Weather WHERE City='Cairo'\")\n",
    "cairo_total_rainfall = cursor.fetchone()\n",
    "print(\"\\nTotal annual rainfall for Cairo:\", cairo_total_rainfall[0])\n"
   ]
  },
  {
   "cell_type": "code",
   "execution_count": 20,
   "id": "63915048",
   "metadata": {},
   "outputs": [
    {
     "name": "stdout",
     "output_type": "stream",
     "text": [
      "\n",
      "Total rainfall for each season:\n",
      "Fall : 569.0\n",
      "Spring : 192.29999999999998\n",
      "Summer : 1706.5\n",
      "Winter : 230.1\n"
     ]
    }
   ],
   "source": [
    "cursor.execute(\"SELECT Season, SUM(Rainfall) FROM Weather GROUP BY Season\")\n",
    "season_total_rainfall = cursor.fetchall()\n",
    "print(\"\\nTotal rainfall for each season:\")\n",
    "for row in season_total_rainfall:\n",
    "    print(row[0], \":\", row[1])"
   ]
  },
  {
   "cell_type": "markdown",
   "id": "c90d8c2e",
   "metadata": {},
   "source": [
    "Q9):-\n",
    ". Suppose list words is defined as follows:\n",
    ">>> words = ['The', 'quick', 'brown', 'fox', 'jumps', 'over',\n",
    "'the', 'lazy', 'dog']\n",
    "Write list comprehension expressions that use list words and generate the following\n",
    "lists:\n",
    "a) ['THE', 'QUICK', 'BROWN', 'FOX', 'JUMPS', 'OVER', 'THE',\n",
    "'LAZY', 'DOG']\n",
    "b) ['the', 'quick', 'brown', 'fox', 'jumps', 'over', 'the',\n",
    "'lazy', 'dog']\n",
    "c) [3, 5, 5, 3, 5, 4, 3, 4, 3] (the list of lengths of words in list\n",
    "words).\n",
    "d) [['THE', 'the', 3], ['QUICK', 'quick', 5], ['BROWN',\n",
    "'brown', 5], ['FOX', 'fox', 3], ['JUMPS', 'jumps', 5],\n",
    "['OVER', 'over', 4], ['THE', 'the', 3], ['LAZY', 'lazy',\n",
    "4], ['DOG', 'dog', 3]] (the list containing a list for every word of list\n",
    "words, where each list contains the word in uppercase and lowercase and the\n",
    "length of the word.)\n",
    "e) ['The', 'quick', 'brown', 'fox', 'jumps', 'over', 'the',\n",
    "'lazy', 'dog'] (the list of words in list words containing 4 or more\n",
    "characters."
   ]
  },
  {
   "cell_type": "code",
   "execution_count": 22,
   "id": "08bc5563",
   "metadata": {},
   "outputs": [
    {
     "name": "stdout",
     "output_type": "stream",
     "text": [
      "['THE', 'QUICK', 'BROWN', 'FOX', 'JUMPS', 'OVER', 'THE', 'LAZY', 'DOG']\n",
      "['the', 'quick', 'brown', 'fox', 'jumps', 'over', 'the', 'lazy', 'dog']\n",
      "[3, 5, 5, 3, 5, 4, 3, 4, 3]\n",
      "[['THE', 'the', 3], ['QUICK', 'quick', 5], ['BROWN', 'brown', 5], ['FOX', 'fox', 3], ['JUMPS', 'jumps', 5], ['OVER', 'over', 4], ['THE', 'the', 3], ['LAZY', 'lazy', 4], ['DOG', 'dog', 3]]\n",
      "['QUICK', 'BROWN', 'JUMPS', 'OVER', 'LAZY']\n"
     ]
    }
   ],
   "source": [
    "words = ['THE', 'QUICK', 'BROWN', 'FOX', 'JUMPS', 'OVER', 'THE', 'LAZY', 'DOG']\n",
    "upper_words = [word.upper() for word in words]\n",
    "print(upper_words)\n",
    "lower_words = [word.lower() for word in words]\n",
    "print(lower_words)\n",
    "word_lengths = [len(word) for word in words]\n",
    "print(word_lengths)\n",
    "word_info = [[word.upper(), word.lower(), len(word)] for word in words]\n",
    "print(word_info)\n",
    "long_words = [word for word in words if len(word) >= 4]\n",
    "print(long_words)\n"
   ]
  },
  {
   "cell_type": "code",
   "execution_count": null,
   "id": "9369d849",
   "metadata": {},
   "outputs": [],
   "source": []
  }
 ],
 "metadata": {
  "kernelspec": {
   "display_name": "Python 3 (ipykernel)",
   "language": "python",
   "name": "python3"
  },
  "language_info": {
   "codemirror_mode": {
    "name": "ipython",
    "version": 3
   },
   "file_extension": ".py",
   "mimetype": "text/x-python",
   "name": "python",
   "nbconvert_exporter": "python",
   "pygments_lexer": "ipython3",
   "version": "3.10.9"
  }
 },
 "nbformat": 4,
 "nbformat_minor": 5
}
